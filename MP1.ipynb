{
 "cells": [
  {
   "cell_type": "code",
   "execution_count": 1,
   "id": "69adb050-026f-46c4-afed-e55294733a42",
   "metadata": {},
   "outputs": [],
   "source": [
    "from astropy.io import ascii\n",
    "import numpy as np\n",
    "import matplotlib.pyplot as plt"
   ]
  },
  {
   "cell_type": "code",
   "execution_count": 51,
   "id": "1119cd84-b229-4fa0-8e03-36fb26bb9995",
   "metadata": {},
   "outputs": [],
   "source": [
    "DATA=ascii.read('iris.data',names=['Sepal Len.','Sepal Width','Petal Len.','Petal Width','Class'])"
   ]
  },
  {
   "cell_type": "code",
   "execution_count": 56,
   "id": "f4d9b9c1-7ca0-41e8-b917-60bbb6534a95",
   "metadata": {},
   "outputs": [
    {
     "data": {
      "text/html": [
       "<i>Table length=10</i>\n",
       "<table id=\"table140239392701584-71681\" class=\"table-striped table-bordered table-condensed\">\n",
       "<thead><tr><th>idx</th><th>Sepal Len.</th><th>Sepal Width</th><th>Petal Len.</th><th>Petal Width</th><th>Class</th></tr></thead>\n",
       "<tr><td>0</td><td>6.3</td><td>3.3</td><td>6.0</td><td>2.5</td><td>Iris-virginica</td></tr>\n",
       "<tr><td>1</td><td>5.8</td><td>2.7</td><td>5.1</td><td>1.9</td><td>Iris-virginica</td></tr>\n",
       "<tr><td>2</td><td>7.1</td><td>3.0</td><td>5.9</td><td>2.1</td><td>Iris-virginica</td></tr>\n",
       "<tr><td>3</td><td>6.3</td><td>2.9</td><td>5.6</td><td>1.8</td><td>Iris-virginica</td></tr>\n",
       "<tr><td>4</td><td>6.5</td><td>3.0</td><td>5.8</td><td>2.2</td><td>Iris-virginica</td></tr>\n",
       "<tr><td>5</td><td>7.6</td><td>3.0</td><td>6.6</td><td>2.1</td><td>Iris-virginica</td></tr>\n",
       "<tr><td>6</td><td>4.9</td><td>2.5</td><td>4.5</td><td>1.7</td><td>Iris-virginica</td></tr>\n",
       "<tr><td>7</td><td>7.3</td><td>2.9</td><td>6.3</td><td>1.8</td><td>Iris-virginica</td></tr>\n",
       "<tr><td>8</td><td>6.7</td><td>2.5</td><td>5.8</td><td>1.8</td><td>Iris-virginica</td></tr>\n",
       "<tr><td>9</td><td>7.2</td><td>3.6</td><td>6.1</td><td>2.5</td><td>Iris-virginica</td></tr>\n",
       "</table><style>table.dataTable {clear: both; width: auto !important; margin: 0 !important;}\n",
       ".dataTables_info, .dataTables_length, .dataTables_filter, .dataTables_paginate{\n",
       "display: inline-block; margin-right: 1em; }\n",
       ".paginate_button { margin-right: 5px; }\n",
       "</style>\n",
       "<script>\n",
       "\n",
       "var astropy_sort_num = function(a, b) {\n",
       "    var a_num = parseFloat(a);\n",
       "    var b_num = parseFloat(b);\n",
       "\n",
       "    if (isNaN(a_num) && isNaN(b_num))\n",
       "        return ((a < b) ? -1 : ((a > b) ? 1 : 0));\n",
       "    else if (!isNaN(a_num) && !isNaN(b_num))\n",
       "        return ((a_num < b_num) ? -1 : ((a_num > b_num) ? 1 : 0));\n",
       "    else\n",
       "        return isNaN(a_num) ? -1 : 1;\n",
       "}\n",
       "\n",
       "require.config({paths: {\n",
       "    datatables: 'https://cdn.datatables.net/1.10.12/js/jquery.dataTables.min'\n",
       "}});\n",
       "require([\"datatables\"], function(){\n",
       "    console.log(\"$('#table140239392701584-71681').dataTable()\");\n",
       "    \n",
       "jQuery.extend( jQuery.fn.dataTableExt.oSort, {\n",
       "    \"optionalnum-asc\": astropy_sort_num,\n",
       "    \"optionalnum-desc\": function (a,b) { return -astropy_sort_num(a, b); }\n",
       "});\n",
       "\n",
       "    $('#table140239392701584-71681').dataTable({\n",
       "        order: [],\n",
       "        pageLength: 50,\n",
       "        lengthMenu: [[10, 25, 50, 100, 500, 1000, -1], [10, 25, 50, 100, 500, 1000, 'All']],\n",
       "        pagingType: \"full_numbers\",\n",
       "        columnDefs: [{targets: [0, 1, 2, 3, 4], type: \"optionalnum\"}]\n",
       "    });\n",
       "});\n",
       "</script>\n"
      ],
      "text/plain": [
       "<IPython.core.display.HTML object>"
      ]
     },
     "execution_count": 56,
     "metadata": {},
     "output_type": "execute_result"
    }
   ],
   "source": [
    "setosaTrain=DATA[:10]\n",
    "versTrain=DATA[50:60]\n",
    "virgTrain=DATA[100:110]\n",
    "\n",
    "setosaVal=DATA[10:30]\n",
    "versVal=DATA[60:80]\n",
    "virgVal=DATA[110:130]\n",
    "\n",
    "setosaTest=DATA[30:50]\n",
    "versTest=DATA[80:100]\n",
    "virgTest=DATA[130:]\n",
    "\n",
    "virgTrain.show_in_notebook()"
   ]
  },
  {
   "cell_type": "code",
   "execution_count": 168,
   "id": "757596a2-0303-4369-8539-97dcb1ee7fd6",
   "metadata": {},
   "outputs": [],
   "source": [
    "def SampleMean(Data,keys):\n",
    "    out=np.zeros(len(keys))\n",
    "    for i in range(len(keys)):\n",
    "        out[i]=np.mean(Data[keys[i]])\n",
    "    return out\n",
    "def Conv2Arr(X):\n",
    "    X=X.as_array()\n",
    "    return X.view(float).reshape(X.shape+(-1,))"
   ]
  },
  {
   "cell_type": "code",
   "execution_count": 61,
   "id": "a1ce7d10-fab5-4fcb-b16a-dfdba13ec4be",
   "metadata": {},
   "outputs": [],
   "source": [
    "colors=['red','lime','blue']\n",
    "names=['Setosa','Versicolor','Virginica']\n",
    "Train=[setosaTrain,versTrain,virgTrain]\n",
    "Val=[setosaVal,versVal,virgVal]\n",
    "Test=[setosaTest,versTest,virgTest]"
   ]
  },
  {
   "cell_type": "code",
   "execution_count": 64,
   "id": "88812c8c-1fba-4d3b-b738-d9543400b009",
   "metadata": {},
   "outputs": [
    {
     "data": {
      "text/plain": [
       "Text(0, 0.5, 'Petal Width [cm]')"
      ]
     },
     "execution_count": 64,
     "metadata": {},
     "output_type": "execute_result"
    },
    {
     "data": {
      "image/png": "[encoded data removed]",
      "text/plain": [
       "<Figure size 640x480 with 1 Axes>"
      ]
     },
     "metadata": {},
     "output_type": "display_data"
    }
   ],
   "source": [
    "for i in [0,1,2]:\n",
    "    plt.scatter('Petal Len.','Petal Width',data=Train[i],color=colors[i],label=names[i])\n",
    "plt.xlim([0.5,7.5])\n",
    "plt.ylim([-0.5,3.0])\n",
    "plt.legend()\n",
    "plt.xlabel('Petal Length [cm]')\n",
    "plt.ylabel('Petal Width [cm]')"
   ]
  },
  {
   "cell_type": "code",
   "execution_count": 200,
   "id": "eae19b94-9526-4ce0-b24e-4343ea338423",
   "metadata": {},
   "outputs": [],
   "source": [
    "X=np.array([Conv2Arr(setosaTrain['Petal Len.','Petal Width'])[1]])"
   ]
  },
  {
   "cell_type": "code",
   "execution_count": 203,
   "id": "841f31b7-335c-40e9-b0be-cb9c1c389f54",
   "metadata": {},
   "outputs": [
    {
     "data": {
      "text/plain": [
       "array([[1.96, 0.28],\n",
       "       [0.28, 0.04]])"
      ]
     },
     "execution_count": 203,
     "metadata": {},
     "output_type": "execute_result"
    }
   ],
   "source": [
    "np.dot(X.T,X)\n"
   ]
  },
  {
   "cell_type": "code",
   "execution_count": 202,
   "id": "7dbbea97-adc7-4f4d-b85a-0c5366e60ba0",
   "metadata": {},
   "outputs": [
    {
     "data": {
      "text/plain": [
       "array([[1.4, 0.2],\n",
       "       [1.4, 0.2],\n",
       "       [1.3, 0.2],\n",
       "       [1.5, 0.2],\n",
       "       [1.4, 0.2],\n",
       "       [1.7, 0.4],\n",
       "       [1.4, 0.3],\n",
       "       [1.5, 0.2],\n",
       "       [1.4, 0.2],\n",
       "       [1.5, 0.1]])"
      ]
     },
     "execution_count": 202,
     "metadata": {},
     "output_type": "execute_result"
    }
   ],
   "source": [
    "X2"
   ]
  },
  {
   "cell_type": "code",
   "execution_count": 196,
   "id": "69d05cd8-31a3-447a-a460-9a7c1f180f43",
   "metadata": {},
   "outputs": [
    {
     "ename": "NameError",
     "evalue": "name 'data' is not defined",
     "output_type": "error",
     "traceback": [
      "\u001b[0;31m---------------------------------------------------------------------------\u001b[0m",
      "\u001b[0;31mNameError\u001b[0m                                 Traceback (most recent call last)",
      "\u001b[0;32m/var/folders/9t/7jkjscf1059fb_hljp_tqnb80000gn/T/ipykernel_5217/2581657352.py\u001b[0m in \u001b[0;36m<module>\u001b[0;34m\u001b[0m\n\u001b[0;32m----> 1\u001b[0;31m \u001b[0mdata\u001b[0m\u001b[0;34m.\u001b[0m\u001b[0mview\u001b[0m\u001b[0;34m(\u001b[0m\u001b[0mnp\u001b[0m\u001b[0;34m.\u001b[0m\u001b[0mfloat\u001b[0m\u001b[0;34m)\u001b[0m\u001b[0;34m.\u001b[0m\u001b[0mreshape\u001b[0m\u001b[0;34m(\u001b[0m\u001b[0mdata\u001b[0m\u001b[0;34m.\u001b[0m\u001b[0mshape\u001b[0m \u001b[0;34m+\u001b[0m \u001b[0;34m(\u001b[0m\u001b[0;34m-\u001b[0m\u001b[0;36m1\u001b[0m\u001b[0;34m,\u001b[0m\u001b[0;34m)\u001b[0m\u001b[0;34m)\u001b[0m\u001b[0;34m\u001b[0m\u001b[0;34m\u001b[0m\u001b[0m\n\u001b[0m",
      "\u001b[0;31mNameError\u001b[0m: name 'data' is not defined"
     ]
    }
   ],
   "source": [
    "data.view(np.float).reshape(data.shape + (-1,))"
   ]
  },
  {
   "cell_type": "code",
   "execution_count": null,
   "id": "1345f8a8-0c8c-49cb-ba6b-1dc77e13292b",
   "metadata": {},
   "outputs": [],
   "source": []
  }
 ],
 "metadata": {
  "kernelspec": {
   "display_name": "Python 3 (ipykernel)",
   "language": "python",
   "name": "python3"
  },
  "language_info": {
   "codemirror_mode": {
    "name": "ipython",
    "version": 3
   },
   "file_extension": ".py",
   "mimetype": "text/x-python",
   "name": "python",
   "nbconvert_exporter": "python",
   "pygments_lexer": "ipython3",
   "version": "3.7.13"
  }
 },
 "nbformat": 4,
 "nbformat_minor": 5
}
