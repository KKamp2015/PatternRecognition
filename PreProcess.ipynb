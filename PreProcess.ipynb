{
 "cells": [
  {
   "cell_type": "code",
   "execution_count": 2,
   "id": "8ad780b6-0bbc-4a5f-92d2-de325f79ac33",
   "metadata": {},
   "outputs": [],
   "source": [
    "from astropy.io import ascii\n",
    "import numpy as np\n",
    "import matplotlib.pyplot as plt\n",
    "from scipy.spatial.distance import mahalanobis as mdist\n",
    "from scipy.stats import chi2\n",
    "from astropy.table import vstack"
   ]
  },
  {
   "cell_type": "code",
   "execution_count": 3,
   "id": "0e0e2d79-7750-4633-9e13-dad9c3780c55",
   "metadata": {},
   "outputs": [],
   "source": [
    "DATA=ascii.read('iris.data',names=['Sepal Len.','Sepal Width','Petal Len.','Petal Width','Class'])"
   ]
  },
  {
   "cell_type": "code",
   "execution_count": 4,
   "id": "27be1784-8804-4b98-a621-ad5be96b8921",
   "metadata": {},
   "outputs": [],
   "source": [
    "setosaTrain=DATA[:10]\n",
    "versTrain=DATA[50:60]\n",
    "virgTrain=DATA[100:110]\n",
    "\n",
    "setosaVal=DATA[10:30]\n",
    "versVal=DATA[60:80]\n",
    "virgVal=DATA[110:130]\n",
    "\n",
    "setosaTest=DATA[30:50]\n",
    "versTest=DATA[80:100]\n",
    "virgTest=DATA[130:]"
   ]
  },
  {
   "cell_type": "code",
   "execution_count": 5,
   "id": "86748d09-4e83-4e67-8c01-3957ab1b5e27",
   "metadata": {},
   "outputs": [],
   "source": [
    "colors=['red','lime','blue']\n",
    "names=['Setosa','Versicolor','Virginica']\n",
    "Train=[setosaTrain,versTrain,virgTrain]\n",
    "Val=[setosaVal,versVal,virgVal]\n",
    "Test=[setosaTest,versTest,virgTest]\n",
    "n=0\n",
    "for T in Train:\n",
    "    T['Class']=n\n",
    "    T.remove_columns(['Sepal Len.','Sepal Width'])\n",
    "    n+=1\n",
    "Train=vstack(Train)\n",
    "n=0\n",
    "for T in Val:\n",
    "    T['Class']=n\n",
    "    T.remove_columns(['Sepal Len.','Sepal Width'])\n",
    "    n+=1\n",
    "Val=vstack(Val)\n",
    "n=0\n",
    "for T in Test:\n",
    "    T['Class']=n\n",
    "    T.remove_columns(['Sepal Len.','Sepal Width'])\n",
    "    n+=1\n",
    "Test=vstack(Test)"
   ]
  },
  {
   "cell_type": "code",
   "execution_count": 6,
   "id": "0adf17eb-a689-404a-a55c-d62863f039d5",
   "metadata": {},
   "outputs": [],
   "source": [
    "Train.write('Training.csv',overwrite=1)\n",
    "Val.write('Validation.csv',overwrite=1)\n",
    "Test.write('Test.csv',overwrite=1)"
   ]
  },
  {
   "cell_type": "code",
   "execution_count": null,
   "id": "26dbc5ec-43e5-4ac7-b242-6bd324f5bda3",
   "metadata": {},
   "outputs": [],
   "source": []
  }
 ],
 "metadata": {
  "kernelspec": {
   "display_name": "Python 3 (ipykernel)",
   "language": "python",
   "name": "python3"
  },
  "language_info": {
   "codemirror_mode": {
    "name": "ipython",
    "version": 3
   },
   "file_extension": ".py",
   "mimetype": "text/x-python",
   "name": "python",
   "nbconvert_exporter": "python",
   "pygments_lexer": "ipython3",
   "version": "3.7.13"
  }
 },
 "nbformat": 4,
 "nbformat_minor": 5
}
